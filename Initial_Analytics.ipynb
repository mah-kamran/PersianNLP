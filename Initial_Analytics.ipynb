{
 "cells": [
  {
   "cell_type": "code",
   "execution_count": 1,
   "metadata": {
    "collapsed": true
   },
   "outputs": [],
   "source": [
    "from PreProcess import *\n",
    "from pandas import read_csv\n",
    "import pandas as pa\n",
    "import matplotlib as plot\n",
    "import persian_wordcloud\n",
    "import codecs\n",
    "import regex"
   ]
  },
  {
   "cell_type": "code",
   "execution_count": 2,
   "metadata": {
    "collapsed": true,
    "scrolled": true
   },
   "outputs": [],
   "source": [
    "with codecs.open( 'PreProcess\\stop-words.txt' , encoding='utf8')as f:\n",
    "        stop_words = regex.split(r'\\s+', regex.sub(r'[,\\-!?.]', ' ', f.read()).strip())\n",
    "        \n",
    "tx_data = pa.read_csv('D:\\\\lda.csv', usecols=[1])"
   ]
  },
  {
   "cell_type": "code",
   "execution_count": 3,
   "metadata": {
    "collapsed": true
   },
   "outputs": [],
   "source": [
    "normalizer = Normalizer()\n",
    "tokenizer = Tokenizer()"
   ]
  },
  {
   "cell_type": "code",
   "execution_count": 4,
   "metadata": {
    "collapsed": true
   },
   "outputs": [],
   "source": [
    "cloud_inpout=normalizer.normalize(str(tx_data))\n",
    "for row in tx_data.iterrows():\n",
    "    words = tokenizer.tokenize_words(normalizer.normalize(str(row[1].values[0])))   "
   ]
  },
  {
   "cell_type": "code",
   "execution_count": 5,
   "metadata": {
    "collapsed": true
   },
   "outputs": [],
   "source": [
    "from persian_wordcloud.wordcloud import PersianWordCloud, add_stop_words\n",
    "# Add another stopword\n",
    "stopwords = add_stop_words(stop_words)\n",
    "# Generate a word cloud image\n",
    "wordcloud = PersianWordCloud(\n",
    "    only_persian=True,\n",
    "    max_words=200,\n",
    "    stopwords=stopwords,\n",
    "    margin=0,\n",
    "    width=800,\n",
    "    height=800,\n",
    "    min_font_size=0.5,\n",
    "    max_font_size=400,\n",
    "    background_color=\"white\"\n",
    ").generate(cloud_inpout)\n",
    "\n",
    "image = wordcloud.to_image()\n",
    "image.show()"
   ]
  },
  {
   "cell_type": "code",
   "execution_count": null,
   "metadata": {
    "collapsed": true
   },
   "outputs": [],
   "source": []
  }
 ],
 "metadata": {
  "kernelspec": {
   "display_name": "Python 3",
   "language": "python",
   "name": "python3"
  },
  "language_info": {
   "codemirror_mode": {
    "name": "ipython",
    "version": 3
   },
   "file_extension": ".py",
   "mimetype": "text/x-python",
   "name": "python",
   "nbconvert_exporter": "python",
   "pygments_lexer": "ipython3",
   "version": "3.6.1"
  }
 },
 "nbformat": 4,
 "nbformat_minor": 2
}
