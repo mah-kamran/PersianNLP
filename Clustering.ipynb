{
 "cells": [
  {
   "cell_type": "code",
   "execution_count": 3,
   "metadata": {
    "collapsed": true
   },
   "outputs": [],
   "source": [
    "import string\n",
    "from sklearn.cluster import KMeans\n",
    "from sklearn.feature_extraction.text import TfidfVectorizer\n",
    "import pandas as pa\n",
    "import codecs\n",
    "import regex\n",
    "import os\n",
    "from sklearn.feature_extraction.text import CountVectorizer\n",
    "from PreProcess import*"
   ]
  },
  {
   "cell_type": "code",
   "execution_count": 14,
   "metadata": {
    "collapsed": true
   },
   "outputs": [],
   "source": [
    "normalizer = Normalizer()\n",
    "tokenizer = Tokenizer()\n",
    "stemmer = FindStems()"
   ]
  },
  {
   "cell_type": "code",
   "execution_count": 15,
   "metadata": {
    "collapsed": true
   },
   "outputs": [],
   "source": [
    "with codecs.open( 'PreProcess\\stop-words.txt' , encoding='utf8')as f:\n",
    "        stop_words = regex.split(r'\\s+', regex.sub(r'[,\\-!?.]', ' ', f.read()).strip())\n",
    "        \n",
    "tx_data = pa.read_csv('betasahm1.csv', usecols=[1])"
   ]
  },
  {
   "cell_type": "code",
   "execution_count": 16,
   "metadata": {
    "collapsed": true
   },
   "outputs": [],
   "source": [
    " \n",
    "def process_text(text, stem=True):\n",
    "    text = normalizer.normalize(text)\n",
    "    tokens = tokenizer.tokenize_words(text)\n",
    " \n",
    "    if stem:\n",
    "        tokens = [stemmer.convert_to_stem(t) for t in tokens]\n",
    "        tokens_without_sw = [word for word in tokens if not word in stop_words]\n",
    " \n",
    "    return tokens\n"
   ]
  },
  {
   "cell_type": "code",
   "execution_count": 17,
   "metadata": {
    "collapsed": true
   },
   "outputs": [],
   "source": [
    " \n",
    "def cluster_texts(texts, clusters=3):\n",
    "    \"\"\" Transform texts to Tf-Idf coordinates and cluster texts using K-Means \"\"\"\n",
    "    vectorizer = TfidfVectorizer(tokenizer=process_text,\n",
    "                                 decode_error='replace',\n",
    "                                 encoding='utf-8',\n",
    "                                 max_df=0.5,\n",
    "                                 min_df=0.1,\n",
    "                                 lowercase=True)\n",
    "    \n",
    "    tfidf_model = vectorizer.fit_transform(texts.values.astype('U'))\n",
    "    km_model = KMeans(n_clusters=clusters)\n",
    "    km_model.fit(tfidf_model)\n",
    "    #this line can be uncommented to predict the lable for new texts\n",
    "    #labels = km_model.predict()\n",
    "    print(km_model.labels_)\n",
    "    \n",
    "    for index , label  in enumerate(km_model.labels_) :\n",
    "        path=os.path.join(str(label),str(index))\n",
    "        os.makedirs(str(label), exist_ok=True) \n",
    "        with open(path, 'w', encoding=\"utf-8\") as f:\n",
    "            f.write(str(texts[index])) \n",
    " "
   ]
  },
  {
   "cell_type": "code",
   "execution_count": 18,
   "metadata": {},
   "outputs": [
    {
     "name": "stdout",
     "output_type": "stream",
     "text": [
      "[1 1 1 ..., 1 1 1]\n"
     ]
    }
   ],
   "source": [
    "\n",
    "cluster_texts(tx_data.iloc[:,0])"
   ]
  },
  {
   "cell_type": "code",
   "execution_count": null,
   "metadata": {
    "collapsed": true
   },
   "outputs": [],
   "source": []
  }
 ],
 "metadata": {
  "kernelspec": {
   "display_name": "Python 3",
   "language": "python",
   "name": "python3"
  },
  "language_info": {
   "codemirror_mode": {
    "name": "ipython",
    "version": 3
   },
   "file_extension": ".py",
   "mimetype": "text/x-python",
   "name": "python",
   "nbconvert_exporter": "python",
   "pygments_lexer": "ipython3",
   "version": "3.6.1"
  }
 },
 "nbformat": 4,
 "nbformat_minor": 2
}
